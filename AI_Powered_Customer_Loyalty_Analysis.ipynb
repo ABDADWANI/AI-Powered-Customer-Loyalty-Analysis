{
  "nbformat": 4,
  "nbformat_minor": 0,
  "metadata": {
    "colab": {
      "provenance": []
    },
    "kernelspec": {
      "name": "python3",
      "display_name": "Python 3"
    },
    "language_info": {
      "name": "python"
    }
  },
  "cells": [
    {
      "cell_type": "markdown",
      "source": [
        "#AI-Powered Customer Loyalty Analysis\n",
        "\n",
        "#Project Description:\n",
        "This project harnesses machine learning to analyze customer behavior and predict churn in the telecom industry. Using advanced data preprocessing, feature engineering, and classification models, it identifies patterns that signal potential customer loss. Businesses can leverage these insights to proactively enhance customer satisfaction and improve retention strategies."
      ],
      "metadata": {
        "id": "ztRbeLd7HsHB"
      }
    },
    {
      "cell_type": "code",
      "source": [
        "import numpy as np\n",
        "import pandas as pd\n",
        "import matplotlib.pyplot as plt\n",
        "from sklearn.model_selection import train_test_split\n",
        "from sklearn.preprocessing import LabelEncoder, OneHotEncoder, StandardScaler\n",
        "from sklearn.compose import ColumnTransformer\n",
        "from sklearn.impute import SimpleImputer\n",
        "from sklearn.metrics import accuracy_score\n",
        "from sklearn.linear_model import LogisticRegression\n",
        "from sklearn.ensemble import RandomForestClassifier\n",
        "from sklearn.svm import SVC\n",
        "from sklearn.tree import DecisionTreeClassifier"
      ],
      "metadata": {
        "id": "t7Bf_UzOVLRI"
      },
      "execution_count": 108,
      "outputs": []
    },
    {
      "cell_type": "code",
      "source": [
        "df_first_3000 = pd.read_csv('/content/df_first_3000.csv')\n",
        "df_second_2000 = pd.read_csv('/content/df_second_2000.csv')\n",
        "df_last_2000 = pd.read_csv('/content/df_last_2000.csv')"
      ],
      "metadata": {
        "id": "9qZIXAAyVLT3"
      },
      "execution_count": 109,
      "outputs": []
    },
    {
      "cell_type": "code",
      "source": [
        "print(df_first_3000.info())\n",
        "print(df_second_2000.info())\n",
        "print(df_last_2000.info())"
      ],
      "metadata": {
        "colab": {
          "base_uri": "https://localhost:8080/"
        },
        "id": "Bhbsw6NWVLWU",
        "outputId": "ec8e7ffa-04e7-476c-fa48-2d0d72d7e0e2"
      },
      "execution_count": 110,
      "outputs": [
        {
          "output_type": "stream",
          "name": "stdout",
          "text": [
            "<class 'pandas.core.frame.DataFrame'>\n",
            "RangeIndex: 3000 entries, 0 to 2999\n",
            "Data columns (total 21 columns):\n",
            " #   Column            Non-Null Count  Dtype  \n",
            "---  ------            --------------  -----  \n",
            " 0   customerID        3000 non-null   object \n",
            " 1   gender            3000 non-null   object \n",
            " 2   SeniorCitizen     3000 non-null   bool   \n",
            " 3   Partner           3000 non-null   bool   \n",
            " 4   Dependents        3000 non-null   bool   \n",
            " 5   tenure            3000 non-null   int64  \n",
            " 6   PhoneService      3000 non-null   bool   \n",
            " 7   MultipleLines     2731 non-null   object \n",
            " 8   InternetService   3000 non-null   object \n",
            " 9   OnlineSecurity    2349 non-null   object \n",
            " 10  OnlineBackup      2349 non-null   object \n",
            " 11  DeviceProtection  2349 non-null   object \n",
            " 12  TechSupport       2349 non-null   object \n",
            " 13  StreamingTV       2349 non-null   object \n",
            " 14  StreamingMovies   2349 non-null   object \n",
            " 15  Contract          3000 non-null   object \n",
            " 16  PaperlessBilling  3000 non-null   bool   \n",
            " 17  PaymentMethod     3000 non-null   object \n",
            " 18  MonthlyCharges    3000 non-null   float64\n",
            " 19  TotalCharges      2995 non-null   float64\n",
            " 20  Churn             2999 non-null   object \n",
            "dtypes: bool(5), float64(2), int64(1), object(13)\n",
            "memory usage: 389.8+ KB\n",
            "None\n",
            "<class 'pandas.core.frame.DataFrame'>\n",
            "RangeIndex: 2000 entries, 0 to 1999\n",
            "Data columns (total 20 columns):\n",
            " #   Column            Non-Null Count  Dtype  \n",
            "---  ------            --------------  -----  \n",
            " 0   customerID        2000 non-null   object \n",
            " 1   gender            2000 non-null   object \n",
            " 2   SeniorCitizen     2000 non-null   int64  \n",
            " 3   Partner           2000 non-null   object \n",
            " 4   Dependents        2000 non-null   object \n",
            " 5   tenure            2000 non-null   int64  \n",
            " 6   PhoneService      2000 non-null   object \n",
            " 7   MultipleLines     2000 non-null   object \n",
            " 8   InternetService   2000 non-null   object \n",
            " 9   OnlineSecurity    2000 non-null   object \n",
            " 10  OnlineBackup      2000 non-null   object \n",
            " 11  DeviceProtection  2000 non-null   object \n",
            " 12  TechSupport       2000 non-null   object \n",
            " 13  StreamingTV       2000 non-null   object \n",
            " 14  StreamingMovies   2000 non-null   object \n",
            " 15  Contract          2000 non-null   object \n",
            " 16  PaperlessBilling  2000 non-null   object \n",
            " 17  PaymentMethod     2000 non-null   object \n",
            " 18  MonthlyCharges    2000 non-null   float64\n",
            " 19  TotalCharges      2000 non-null   object \n",
            "dtypes: float64(1), int64(2), object(17)\n",
            "memory usage: 312.6+ KB\n",
            "None\n",
            "<class 'pandas.core.frame.DataFrame'>\n",
            "RangeIndex: 2043 entries, 0 to 2042\n",
            "Data columns (total 21 columns):\n",
            " #   Column            Non-Null Count  Dtype  \n",
            "---  ------            --------------  -----  \n",
            " 0   customerID        2043 non-null   object \n",
            " 1   gender            2043 non-null   object \n",
            " 2   SeniorCitizen     2043 non-null   int64  \n",
            " 3   Partner           2043 non-null   object \n",
            " 4   Dependents        2043 non-null   object \n",
            " 5   tenure            2043 non-null   int64  \n",
            " 6   PhoneService      2043 non-null   object \n",
            " 7   MultipleLines     2043 non-null   object \n",
            " 8   InternetService   2043 non-null   object \n",
            " 9   OnlineSecurity    2043 non-null   object \n",
            " 10  OnlineBackup      2043 non-null   object \n",
            " 11  DeviceProtection  2043 non-null   object \n",
            " 12  TechSupport       2043 non-null   object \n",
            " 13  StreamingTV       2043 non-null   object \n",
            " 14  StreamingMovies   2043 non-null   object \n",
            " 15  Contract          2043 non-null   object \n",
            " 16  PaperlessBilling  2043 non-null   object \n",
            " 17  PaymentMethod     2043 non-null   object \n",
            " 18  MonthlyCharges    2043 non-null   float64\n",
            " 19  TotalCharges      2043 non-null   object \n",
            " 20  Churn             2043 non-null   object \n",
            "dtypes: float64(1), int64(2), object(18)\n",
            "memory usage: 335.3+ KB\n",
            "None\n"
          ]
        }
      ]
    },
    {
      "cell_type": "code",
      "source": [
        "print(\"Missing values before cleanup:\")\n",
        "print(df_first_3000.isnull().sum())"
      ],
      "metadata": {
        "colab": {
          "base_uri": "https://localhost:8080/"
        },
        "id": "zDe9gfKQVLZW",
        "outputId": "57052fd3-bf1d-4bf0-90a6-64698a8cdb92"
      },
      "execution_count": 111,
      "outputs": [
        {
          "output_type": "stream",
          "name": "stdout",
          "text": [
            "Missing values before cleanup:\n",
            "customerID            0\n",
            "gender                0\n",
            "SeniorCitizen         0\n",
            "Partner               0\n",
            "Dependents            0\n",
            "tenure                0\n",
            "PhoneService          0\n",
            "MultipleLines       269\n",
            "InternetService       0\n",
            "OnlineSecurity      651\n",
            "OnlineBackup        651\n",
            "DeviceProtection    651\n",
            "TechSupport         651\n",
            "StreamingTV         651\n",
            "StreamingMovies     651\n",
            "Contract              0\n",
            "PaperlessBilling      0\n",
            "PaymentMethod         0\n",
            "MonthlyCharges        0\n",
            "TotalCharges          5\n",
            "Churn                 1\n",
            "dtype: int64\n"
          ]
        }
      ]
    },
    {
      "cell_type": "code",
      "source": [
        "df_first_3000 = df_first_3000.dropna(subset=['MultipleLines', 'TotalCharges', 'Churn'])"
      ],
      "metadata": {
        "id": "R7MqLdiBVLbd"
      },
      "execution_count": 112,
      "outputs": []
    },
    {
      "cell_type": "code",
      "source": [
        "cols_to_fill = [\"OnlineSecurity\", \"OnlineBackup\", \"DeviceProtection\",\n",
        "                \"TechSupport\", \"StreamingTV\", \"StreamingMovies\"]\n",
        "df_first_3000[cols_to_fill] = df_first_3000[cols_to_fill].fillna(\"No internet service\")"
      ],
      "metadata": {
        "id": "mA2hwS-gVLeG"
      },
      "execution_count": 113,
      "outputs": []
    },
    {
      "cell_type": "code",
      "source": [
        "df_second_2000['TotalCharges'] = pd.to_numeric(df_second_2000['TotalCharges'], errors='coerce')\n",
        "df_last_2000['TotalCharges'] = pd.to_numeric(df_last_2000['TotalCharges'], errors='coerce')"
      ],
      "metadata": {
        "id": "MZT36168VLgQ"
      },
      "execution_count": 114,
      "outputs": []
    },
    {
      "cell_type": "code",
      "source": [
        "train = pd.concat([df_first_3000, df_last_2000])\n",
        "test = df_second_2000.copy()"
      ],
      "metadata": {
        "id": "gop9bwppVLjd"
      },
      "execution_count": 115,
      "outputs": []
    },
    {
      "cell_type": "code",
      "source": [
        "train['SeniorCitizen'] = train['SeniorCitizen'].astype(str)\n",
        "test['SeniorCitizen'] = test['SeniorCitizen'].astype(str)"
      ],
      "metadata": {
        "id": "nGdTgQ0GVLl5"
      },
      "execution_count": 116,
      "outputs": []
    },
    {
      "cell_type": "code",
      "source": [
        "X = train.drop(['customerID', 'Churn'], axis=1)\n",
        "y = train['Churn'].astype(str)"
      ],
      "metadata": {
        "id": "jMHvcjF9VLoS"
      },
      "execution_count": 117,
      "outputs": []
    },
    {
      "cell_type": "code",
      "source": [
        "label_encoder = LabelEncoder()\n",
        "y = label_encoder.fit_transform(y)"
      ],
      "metadata": {
        "id": "TMP44oVkVLrG"
      },
      "execution_count": 118,
      "outputs": []
    },
    {
      "cell_type": "code",
      "source": [
        "def preprocess_data(df):\n",
        "    \"\"\"Handles categorical encoding, scaling, and missing values.\"\"\"\n",
        "\n",
        "    if not isinstance(df, pd.DataFrame):\n",
        "        df = pd.DataFrame(df)\n",
        "\n",
        "    categorical_cols = df.select_dtypes(include=['object', 'bool']).columns\n",
        "    numerical_cols = df.select_dtypes(include=['number']).columns\n",
        "\n",
        "    # Convert categorical columns to string before encoding\n",
        "    df[categorical_cols] = df[categorical_cols].astype(str)\n",
        "\n",
        "    # Handle missing values\n",
        "    imputer_num = SimpleImputer(strategy=\"mean\")  # Fill numeric NaNs with mean\n",
        "    imputer_cat = SimpleImputer(strategy=\"most_frequent\")  # Fill categorical NaNs with mode\n",
        "\n",
        "    df[numerical_cols] = imputer_num.fit_transform(df[numerical_cols])\n",
        "    df[categorical_cols] = imputer_cat.fit_transform(df[categorical_cols])\n",
        "\n",
        "    # Define transformations\n",
        "    preprocessor = ColumnTransformer([\n",
        "        ('onehot', OneHotEncoder(handle_unknown='ignore', sparse_output=False), categorical_cols),\n",
        "        ('scaler', StandardScaler(), numerical_cols)\n",
        "    ])\n",
        "\n",
        "    transformed = preprocessor.fit_transform(df)\n",
        "\n",
        "    # Ensure output is a dense NumPy array\n",
        "    return transformed.toarray() if hasattr(transformed, \"toarray\") else transformed"
      ],
      "metadata": {
        "id": "oH72Rb0kVLtt"
      },
      "execution_count": 119,
      "outputs": []
    },
    {
      "cell_type": "code",
      "source": [
        "X_train, X_test, y_train, y_test = train_test_split(\n",
        "    X, y, test_size=0.2, random_state=42, stratify=y\n",
        ")"
      ],
      "metadata": {
        "id": "1JyycD3TVLwR"
      },
      "execution_count": 120,
      "outputs": []
    },
    {
      "cell_type": "code",
      "source": [
        "X_train = preprocess_data(X_train)\n",
        "X_test = preprocess_data(X_test)"
      ],
      "metadata": {
        "id": "hwH5WJwRVLyw"
      },
      "execution_count": 121,
      "outputs": []
    },
    {
      "cell_type": "code",
      "source": [
        "print(\"Missing values in X_train after preprocessing:\", np.isnan(X_train).sum())\n",
        "print(\"Missing values in X_test after preprocessing:\", np.isnan(X_test).sum())"
      ],
      "metadata": {
        "colab": {
          "base_uri": "https://localhost:8080/"
        },
        "id": "gLm4_L7sVL1N",
        "outputId": "20844223-29ef-49b0-dea2-a170920af532"
      },
      "execution_count": 122,
      "outputs": [
        {
          "output_type": "stream",
          "name": "stdout",
          "text": [
            "Missing values in X_train after preprocessing: 0\n",
            "Missing values in X_test after preprocessing: 0\n"
          ]
        }
      ]
    },
    {
      "cell_type": "code",
      "source": [
        "y_train = np.ravel(y_train)\n",
        "y_test = np.ravel(y_test)"
      ],
      "metadata": {
        "id": "npSCBXWBVL31"
      },
      "execution_count": 123,
      "outputs": []
    },
    {
      "cell_type": "code",
      "source": [
        "models = {\n",
        "    \"Logistic Regression\": LogisticRegression(),\n",
        "    \"Random Forest\": RandomForestClassifier(n_estimators=100, random_state=42),\n",
        "    \"Support Vector Machine\": SVC(),\n",
        "    \"Decision Tree\": DecisionTreeClassifier()\n",
        "}"
      ],
      "metadata": {
        "id": "x7DpP2-zVL6Z"
      },
      "execution_count": 124,
      "outputs": []
    },
    {
      "cell_type": "code",
      "source": [
        "results = {}\n",
        "\n",
        "for name, model in models.items():\n",
        "    model.fit(X_train, y_train)  # Ensure dense input\n",
        "    y_pred = model.predict(X_test)\n",
        "    acc = accuracy_score(y_test, y_pred)\n",
        "    results[name] = acc\n",
        "    print(f\"{name} Accuracy: {acc:.2f}\")"
      ],
      "metadata": {
        "colab": {
          "base_uri": "https://localhost:8080/"
        },
        "id": "tONo15L1VL9a",
        "outputId": "e34fbf99-3fdc-42a9-d0e7-8fbe0e1ebf53"
      },
      "execution_count": 125,
      "outputs": [
        {
          "output_type": "stream",
          "name": "stdout",
          "text": [
            "Logistic Regression Accuracy: 0.80\n",
            "Random Forest Accuracy: 0.77\n",
            "Support Vector Machine Accuracy: 0.80\n",
            "Decision Tree Accuracy: 0.73\n"
          ]
        }
      ]
    },
    {
      "cell_type": "code",
      "source": [
        "plt.figure(figsize=(8, 5))\n",
        "plt.bar(results.keys(), results.values(), color=['blue', 'green', 'red', 'purple'])\n",
        "plt.ylabel(\"Accuracy\")\n",
        "plt.title(\"Model Performance\")\n",
        "plt.ylim(0, 1)\n",
        "plt.show()"
      ],
      "metadata": {
        "colab": {
          "base_uri": "https://localhost:8080/",
          "height": 468
        },
        "id": "iwzDPgIRVL_2",
        "outputId": "dcb47aed-2e6f-4201-d01b-951f7328c048"
      },
      "execution_count": 126,
      "outputs": [
        {
          "output_type": "display_data",
          "data": {
            "text/plain": [
              "<Figure size 800x500 with 1 Axes>"
            ],
            "image/png": "[encoded data removed]"
          },
          "metadata": {}
        }
      ]
    }
  ]
}